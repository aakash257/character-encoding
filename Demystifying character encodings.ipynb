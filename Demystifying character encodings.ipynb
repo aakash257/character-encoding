{
 "cells": [
  {
   "cell_type": "markdown",
   "metadata": {},
   "source": [
    "### what is unicode? # is unicode a standard or a specification?\n",
    "It is a system for representing characters from all possible human languages.\n",
    "\n",
    "### why is unicode necessary?\n",
    "It is necessary to simplify understanding of characters from different languages. Earlier, every language has its own system of encoding characters which made exchange of information across platforms difficult.\n",
    "\n",
    "### what is the relationship between unicode and characters?\n",
    "Unicode standard describes the relationship between code points and character.\n",
    "A code point value is an integer ranging from 0 to 0x10FFFF values.\n",
    "0X10FFFF is a hexadecimal number. It is equivalent to 1114111 in decimal system. Hexadecimal number system has \"0\"-\"9\" and \"A\"-\"F\", where \"A\"-\"F\" represents 10-15 numbers.\n",
    "\n",
    "$0x10FFFF_{base16} = 1114111_{base10}$\n",
    "\n",
    "$0x10FFFF \\longrightarrow 1 * 16^5 + 0 * 16^4 + 15 * 16^3 + 15 * 16^2 + 15 * 16^1 + 15 * 16^0$\n",
    "\n",
    "Out of the 1.1 million values, 110k values have been assigned to characters. So, unicode standard defines the relationship between code point value and\n",
    "character value. For example, code point value of U+0061 represents the\n",
    "character 'a'. In informal contexts, U+0061 is referred to as 'a' character,\n",
    "which is technically incorrect.\n",
    "\n",
    "### what is the relationship between character and bytes?\n",
    "A character's code point value is required to be represented in memory, which\n",
    "is done as code unit, and code units are mapped to 8-bit bytes. The rules of\n",
    "mapping code units to 8-bit bytes are called a character encoding.\n",
    "\n",
    "### what are different ways to represent code points in computer's memory?\n",
    "UTF-32, UTF-16, UTF-8 are some encoding standards to encode code points into\n",
    "32 bits, 16 bits, and 8 bits bytes. UTF-8 is most widely used encoding format.\n",
    "\n",
    "\n",
    "== resources ==\n",
    "https://docs.python.org/3/howto/unicode.html\n",
    "https://web.archive.org/web/20120315050914/http://www.diveintopython.net/xml_processing/unicode.html"
   ]
  },
  {
   "cell_type": "code",
   "execution_count": 1,
   "metadata": {},
   "outputs": [
    {
     "name": "stdout",
     "output_type": "stream",
     "text": [
      "utf-8\n"
     ]
    }
   ],
   "source": [
    "import sys\n",
    "print(sys.getdefaultencoding())"
   ]
  },
  {
   "cell_type": "code",
   "execution_count": 2,
   "metadata": {},
   "outputs": [
    {
     "name": "stdout",
     "output_type": "stream",
     "text": [
      "b'A'\n",
      "Size of the encoded variable is  34\n"
     ]
    }
   ],
   "source": [
    "#let us take an example of a character A\n",
    "encode_utf8 = 'A'.encode('utf-8')\n",
    "print(encode_utf8)\n",
    "print('Size of the encoded variable is ', sys.getsizeof(encode_utf8))"
   ]
  },
  {
   "cell_type": "code",
   "execution_count": 3,
   "metadata": {},
   "outputs": [
    {
     "name": "stdout",
     "output_type": "stream",
     "text": [
      "b'\\xff\\xfeA\\x00'\n",
      "Size of the encoded variable is  37\n"
     ]
    }
   ],
   "source": [
    "encode_utf16 = 'A'.encode('utf-16')\n",
    "print(encode_utf16)\n",
    "print('Size of the encoded variable is ', sys.getsizeof(encode_utf16))"
   ]
  },
  {
   "cell_type": "code",
   "execution_count": 4,
   "metadata": {},
   "outputs": [
    {
     "name": "stdout",
     "output_type": "stream",
     "text": [
      "b'\\xff\\xfe\\x00\\x00A\\x00\\x00\\x00'\n",
      "Size of the encoded variable is  41\n"
     ]
    }
   ],
   "source": [
    "encode_utf32 = 'A'.encode('utf-32')\n",
    "print(encode_utf32)\n",
    "print('Size of the encoded variable is ', sys.getsizeof(encode_utf32))"
   ]
  }
 ],
 "metadata": {
  "kernelspec": {
   "display_name": "Python 3",
   "language": "python",
   "name": "python3"
  },
  "language_info": {
   "codemirror_mode": {
    "name": "ipython",
    "version": 3
   },
   "file_extension": ".py",
   "mimetype": "text/x-python",
   "name": "python",
   "nbconvert_exporter": "python",
   "pygments_lexer": "ipython3",
   "version": "3.5.6"
  }
 },
 "nbformat": 4,
 "nbformat_minor": 4
}
